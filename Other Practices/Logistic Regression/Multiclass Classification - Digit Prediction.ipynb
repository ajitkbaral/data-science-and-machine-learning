{
 "cells": [
  {
   "cell_type": "code",
   "execution_count": 2,
   "id": "3d86c997",
   "metadata": {},
   "outputs": [],
   "source": [
    "import matplotlib.pyplot as plt\n",
    "%matplotlib inline\n",
    "from sklearn.datasets import load_digits"
   ]
  },
  {
   "cell_type": "code",
   "execution_count": 3,
   "id": "7eee5beb",
   "metadata": {},
   "outputs": [],
   "source": [
    "digits = load_digits()"
   ]
  },
  {
   "cell_type": "code",
   "execution_count": 5,
   "id": "5c6c1473",
   "metadata": {},
   "outputs": [
    {
     "data": {
      "text/plain": [
       "['DESCR', 'data', 'feature_names', 'frame', 'images', 'target', 'target_names']"
      ]
     },
     "execution_count": 5,
     "metadata": {},
     "output_type": "execute_result"
    }
   ],
   "source": [
    "dir(digits)"
   ]
  },
  {
   "cell_type": "code",
   "execution_count": 6,
   "id": "6e21be2b",
   "metadata": {},
   "outputs": [
    {
     "data": {
      "text/plain": [
       "array([[ 0.,  0.,  5., 13.,  9.,  1.,  0.,  0.],\n",
       "       [ 0.,  0., 13., 15., 10., 15.,  5.,  0.],\n",
       "       [ 0.,  3., 15.,  2.,  0., 11.,  8.,  0.],\n",
       "       [ 0.,  4., 12.,  0.,  0.,  8.,  8.,  0.],\n",
       "       [ 0.,  5.,  8.,  0.,  0.,  9.,  8.,  0.],\n",
       "       [ 0.,  4., 11.,  0.,  1., 12.,  7.,  0.],\n",
       "       [ 0.,  2., 14.,  5., 10., 12.,  0.,  0.],\n",
       "       [ 0.,  0.,  6., 13., 10.,  0.,  0.,  0.]])"
      ]
     },
     "execution_count": 6,
     "metadata": {},
     "output_type": "execute_result"
    }
   ],
   "source": [
    "digits.images[0]"
   ]
  },
  {
   "cell_type": "code",
   "execution_count": 7,
   "id": "3ca61822",
   "metadata": {
    "scrolled": false
   },
   "outputs": [
    {
     "data": {
      "text/plain": [
       "<Figure size 432x288 with 0 Axes>"
      ]
     },
     "metadata": {},
     "output_type": "display_data"
    },
    {
     "data": {
      "image/png": "[encoded data removed]",
      "text/plain": [
       "<Figure size 288x288 with 1 Axes>"
      ]
     },
     "metadata": {
      "needs_background": "light"
     },
     "output_type": "display_data"
    },
    {
     "data": {
      "image/png": "[encoded data removed]",
      "text/plain": [
       "<Figure size 288x288 with 1 Axes>"
      ]
     },
     "metadata": {
      "needs_background": "light"
     },
     "output_type": "display_data"
    },
    {
     "data": {
      "image/png": "[encoded data removed]",
      "text/plain": [
       "<Figure size 288x288 with 1 Axes>"
      ]
     },
     "metadata": {
      "needs_background": "light"
     },
     "output_type": "display_data"
    },
    {
     "data": {
      "image/png": "[encoded data removed]",
      "text/plain": [
       "<Figure size 288x288 with 1 Axes>"
      ]
     },
     "metadata": {
      "needs_background": "light"
     },
     "output_type": "display_data"
    },
    {
     "data": {
      "image/png": "[encoded data removed]",
      "text/plain": [
       "<Figure size 288x288 with 1 Axes>"
      ]
     },
     "metadata": {
      "needs_background": "light"
     },
     "output_type": "display_data"
    }
   ],
   "source": [
    "plt.gray()\n",
    "for i in range(5):\n",
    "    plt.matshow(digits.images[i])"
   ]
  },
  {
   "cell_type": "code",
   "execution_count": 11,
   "id": "c4751517",
   "metadata": {},
   "outputs": [
    {
     "name": "stdout",
     "output_type": "stream",
     "text": [
      "0\n",
      "1\n",
      "2\n",
      "3\n",
      "4\n"
     ]
    }
   ],
   "source": [
    "for i in range(5):\n",
    "    print(digits.target[i])"
   ]
  },
  {
   "cell_type": "code",
   "execution_count": 12,
   "id": "4aeeb154",
   "metadata": {},
   "outputs": [],
   "source": [
    "from sklearn.model_selection import train_test_split\n",
    "from sklearn.linear_model import LogisticRegression"
   ]
  },
  {
   "cell_type": "code",
   "execution_count": 19,
   "id": "559d073b",
   "metadata": {},
   "outputs": [],
   "source": [
    "X_train, X_test, y_train, y_test = train_test_split(digits.data, digits.target, test_size=0.5)"
   ]
  },
  {
   "cell_type": "code",
   "execution_count": 22,
   "id": "5c4845aa",
   "metadata": {},
   "outputs": [
    {
     "data": {
      "text/plain": [
       "LogisticRegression(class_weight='balanced', max_iter=10000)"
      ]
     },
     "execution_count": 22,
     "metadata": {},
     "output_type": "execute_result"
    }
   ],
   "source": [
    "model = LogisticRegression(solver='lbfgs',class_weight='balanced', max_iter=10000)\n",
    "model.fit(X_train, y_train)"
   ]
  },
  {
   "cell_type": "code",
   "execution_count": 23,
   "id": "439ae7fa",
   "metadata": {},
   "outputs": [
    {
     "data": {
      "text/plain": [
       "array([0, 2, 5, 2, 7, 8, 7, 6, 5, 6, 1, 9, 3, 2, 7, 5, 2, 8, 6, 5, 6, 9,\n",
       "       4, 7, 5, 8, 5, 5, 0, 4, 4, 3, 3, 5, 0, 3, 7, 9, 2, 1, 0, 4, 5, 9,\n",
       "       8, 6, 5, 6, 0, 7, 0, 8, 6, 5, 8, 9, 1, 7, 9, 6, 0, 5, 5, 4, 4, 9,\n",
       "       0, 4, 8, 7, 2, 3, 9, 9, 9, 5, 4, 5, 2, 8, 8, 3, 9, 0, 4, 6, 6, 4,\n",
       "       1, 3, 1, 1, 2, 6, 1, 4, 2, 3, 2, 3, 7, 4, 9, 4, 9, 1, 4, 0, 0, 6,\n",
       "       5, 7, 6, 3, 8, 3, 5, 6, 2, 4, 4, 1, 4, 6, 7, 7, 8, 4, 9, 7, 9, 1,\n",
       "       4, 4, 8, 2, 7, 5, 1, 6, 1, 2, 2, 5, 6, 6, 6, 6, 9, 7, 4, 3, 6, 9,\n",
       "       1, 6, 4, 9, 8, 4, 2, 2, 0, 5, 8, 4, 3, 6, 0, 2, 0, 7, 9, 5, 9, 8,\n",
       "       3, 5, 9, 2, 5, 1, 6, 0, 6, 1, 6, 7, 3, 0, 5, 0, 4, 5, 8, 3, 7, 1,\n",
       "       4, 1, 4, 4, 1, 3, 7, 8, 0, 0, 3, 1, 0, 9, 5, 1, 8, 5, 0, 1, 1, 8,\n",
       "       8, 9, 4, 3, 5, 6, 5, 5, 7, 5, 7, 7, 9, 2, 7, 9, 5, 4, 2, 0, 1, 5,\n",
       "       8, 6, 2, 7, 2, 9, 4, 1, 3, 1, 6, 8, 2, 5, 0, 1, 0, 7, 1, 3, 7, 6,\n",
       "       4, 4, 1, 0, 5, 2, 0, 9, 3, 3, 7, 3, 1, 7, 4, 9, 7, 0, 8, 8, 3, 7,\n",
       "       0, 7, 2, 0, 3, 6, 6, 5, 0, 4, 2, 8, 3, 9, 0, 1, 5, 9, 4, 1, 4, 1,\n",
       "       3, 1, 9, 5, 2, 2, 0, 3, 9, 4, 1, 6, 2, 1, 5, 1, 2, 2, 2, 1, 6, 2,\n",
       "       5, 7, 4, 0, 1, 6, 5, 8, 6, 1, 2, 7, 3, 1, 0, 5, 7, 3, 7, 4, 4, 2,\n",
       "       0, 0, 5, 1, 1, 8, 3, 8, 1, 3, 0, 8, 6, 9, 2, 4, 9, 6, 0, 1, 3, 2,\n",
       "       5, 3, 8, 5, 6, 5, 6, 1, 4, 8, 1, 4, 7, 8, 9, 3, 9, 3, 9, 6, 5, 0,\n",
       "       9, 7, 4, 6, 2, 1, 1, 2, 7, 8, 9, 2, 1, 3, 2, 2, 7, 1, 5, 0, 8, 3,\n",
       "       2, 6, 9, 9, 9, 8, 6, 4, 4, 3, 5, 9, 7, 2, 4, 0, 0, 0, 8, 0, 6, 2,\n",
       "       3, 3, 9, 6, 6, 6, 3, 3, 6, 9, 8, 0, 4, 3, 3, 8, 6, 3, 1, 0, 4, 2,\n",
       "       4, 2, 6, 7, 1, 6, 7, 4, 8, 7, 7, 8, 0, 4, 3, 3, 5, 5, 5, 6, 0, 9,\n",
       "       9, 3, 4, 7, 8, 3, 4, 9, 9, 5, 0, 8, 5, 9, 6, 9, 5, 5, 4, 1, 3, 5,\n",
       "       3, 7, 8, 7, 0, 2, 5, 9, 4, 8, 1, 6, 4, 3, 0, 5, 9, 2, 9, 2, 4, 0,\n",
       "       1, 5, 5, 0, 5, 6, 5, 3, 3, 6, 2, 8, 9, 8, 1, 5, 8, 4, 0, 7, 8, 1,\n",
       "       1, 1, 0, 5, 7, 8, 6, 0, 4, 6, 2, 9, 9, 4, 7, 2, 4, 4, 7, 4, 8, 5,\n",
       "       3, 5, 0, 2, 1, 9, 6, 8, 8, 3, 1, 7, 6, 6, 4, 9, 9, 8, 7, 9, 9, 9,\n",
       "       5, 7, 8, 8, 3, 1, 8, 8, 9, 4, 9, 4, 4, 8, 2, 6, 8, 0, 6, 2, 9, 7,\n",
       "       3, 8, 4, 7, 4, 0, 3, 3, 3, 2, 7, 6, 1, 0, 8, 4, 4, 8, 8, 2, 7, 2,\n",
       "       8, 7, 3, 8, 6, 0, 6, 6, 3, 1, 7, 1, 7, 0, 5, 4, 9, 6, 9, 3, 1, 6,\n",
       "       1, 6, 2, 5, 6, 5, 7, 1, 1, 4, 9, 3, 8, 1, 9, 5, 5, 8, 3, 4, 7, 8,\n",
       "       3, 5, 3, 2, 5, 8, 8, 4, 5, 2, 2, 5, 1, 9, 2, 9, 5, 5, 0, 8, 5, 2,\n",
       "       9, 2, 1, 7, 2, 9, 4, 6, 6, 5, 1, 6, 4, 9, 5, 7, 3, 8, 7, 6, 9, 0,\n",
       "       2, 7, 4, 6, 2, 6, 4, 6, 1, 8, 1, 9, 8, 2, 5, 9, 6, 5, 2, 6, 2, 0,\n",
       "       3, 9, 9, 6, 3, 7, 3, 8, 5, 4, 9, 5, 9, 1, 6, 4, 9, 8, 7, 6, 1, 3,\n",
       "       0, 9, 1, 9, 2, 2, 4, 0, 2, 6, 1, 7, 7, 2, 9, 1, 9, 1, 5, 6, 0, 7,\n",
       "       5, 3, 8, 6, 7, 7, 4, 9, 6, 0, 5, 9, 7, 7, 7, 7, 6, 6, 8, 3, 4, 6,\n",
       "       4, 7, 5, 4, 7, 3, 3, 0, 2, 9, 6, 3, 7, 2, 2, 6, 5, 4, 9, 1, 0, 6,\n",
       "       6, 0, 4, 8, 6, 5, 6, 9, 0, 6, 1, 5, 1, 2, 8, 6, 3, 1, 1, 2, 8, 9,\n",
       "       7, 3, 4, 1, 9, 7, 0, 5, 1, 4, 9, 7, 6, 8, 6, 3, 2, 7, 5, 8, 0, 2,\n",
       "       0, 9, 3, 8, 8, 9, 2, 7, 1, 5, 6, 9, 2, 6, 7, 6, 0, 0, 2])"
      ]
     },
     "execution_count": 23,
     "metadata": {},
     "output_type": "execute_result"
    }
   ],
   "source": [
    "model.predict(X_test)"
   ]
  },
  {
   "cell_type": "code",
   "execution_count": 24,
   "id": "dd80712a",
   "metadata": {},
   "outputs": [
    {
     "data": {
      "text/plain": [
       "0.9555061179087876"
      ]
     },
     "execution_count": 24,
     "metadata": {},
     "output_type": "execute_result"
    }
   ],
   "source": [
    "model.score(X_test, y_test)"
   ]
  },
  {
   "cell_type": "code",
   "execution_count": 28,
   "id": "489e45d0",
   "metadata": {},
   "outputs": [
    {
     "data": {
      "text/plain": [
       "array([0, 1, 2, 3, 4])"
      ]
     },
     "execution_count": 28,
     "metadata": {},
     "output_type": "execute_result"
    }
   ],
   "source": [
    "model.predict(digits.data[0:5])"
   ]
  },
  {
   "cell_type": "code",
   "execution_count": 29,
   "id": "90bd6d13",
   "metadata": {},
   "outputs": [],
   "source": [
    "y_predicted = model.predict(X_test)"
   ]
  },
  {
   "cell_type": "code",
   "execution_count": 30,
   "id": "f0a58551",
   "metadata": {},
   "outputs": [],
   "source": [
    "from sklearn.metrics import confusion_matrix"
   ]
  },
  {
   "cell_type": "code",
   "execution_count": 31,
   "id": "729c6845",
   "metadata": {},
   "outputs": [],
   "source": [
    "cm = confusion_matrix(y_test, y_predicted)"
   ]
  },
  {
   "cell_type": "code",
   "execution_count": 32,
   "id": "a005d2ba",
   "metadata": {},
   "outputs": [
    {
     "data": {
      "text/plain": [
       "array([[78,  0,  0,  0,  1,  0,  1,  0,  0,  0],\n",
       "       [ 0, 82,  0,  0,  0,  0,  0,  0,  2,  1],\n",
       "       [ 0,  1, 86,  0,  0,  0,  0,  0,  0,  0],\n",
       "       [ 0,  0,  0, 83,  0,  0,  0,  0,  0,  0],\n",
       "       [ 0,  0,  0,  0, 89,  0,  6,  0,  0,  2],\n",
       "       [ 0,  0,  0,  0,  0, 92,  1,  0,  0,  4],\n",
       "       [ 0,  1,  0,  0,  0,  0, 96,  0,  0,  0],\n",
       "       [ 0,  0,  0,  0,  1,  1,  0, 86,  1,  0],\n",
       "       [ 0,  4,  0,  0,  1,  1,  0,  1, 77,  1],\n",
       "       [ 0,  1,  0,  1,  0,  2,  0,  0,  5, 90]])"
      ]
     },
     "execution_count": 32,
     "metadata": {},
     "output_type": "execute_result"
    }
   ],
   "source": [
    "cm"
   ]
  },
  {
   "cell_type": "code",
   "execution_count": 39,
   "id": "7e1b7681",
   "metadata": {},
   "outputs": [
    {
     "data": {
      "text/plain": [
       "Text(69.0, 0.5, 'Truth')"
      ]
     },
     "execution_count": 39,
     "metadata": {},
     "output_type": "execute_result"
    },
    {
     "data": {
      "image/png": "[encoded data removed]",
      "text/plain": [
       "<Figure size 720x504 with 2 Axes>"
      ]
     },
     "metadata": {
      "needs_background": "light"
     },
     "output_type": "display_data"
    }
   ],
   "source": [
    "import seaborn as sns\n",
    "plt.figure(figsize=(10,7))\n",
    "sns.heatmap(cm, annot=True)\n",
    "plt.xlabel('Predicted', fontsize=20)\n",
    "plt.ylabel('Truth', fontsize=20)"
   ]
  }
 ],
 "metadata": {
  "kernelspec": {
   "display_name": "Python 3 (ipykernel)",
   "language": "python",
   "name": "python3"
  },
  "language_info": {
   "codemirror_mode": {
    "name": "ipython",
    "version": 3
   },
   "file_extension": ".py",
   "mimetype": "text/x-python",
   "name": "python",
   "nbconvert_exporter": "python",
   "pygments_lexer": "ipython3",
   "version": "3.9.7"
  }
 },
 "nbformat": 4,
 "nbformat_minor": 5
}
